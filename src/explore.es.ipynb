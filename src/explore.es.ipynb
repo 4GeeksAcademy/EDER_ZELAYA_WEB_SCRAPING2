{
    "cells": [
        {
            "cell_type": "markdown",
            "metadata": {},
            "source": [
                "# Explora aquí\n",
                "\n",
                "Se recomienda utilizar este cuaderno con fines de exploración."
            ]
        },
        {
            "cell_type": "markdown",
            "metadata": {},
            "source": [
                "# Solución de raspado web\n",
                "\n",
                "## Paso 1: Instalar dependencias\n",
                "\n",
                "Para comenzar, debemos instalar las librerías necesarias para el proyecto.  \n",
                "Usaremos `pandas`, `requests` y `lxml` para realizar el scraping y procesar los datos.\n",
                "\n",
                "Ejecuta el siguiente comando en la celda de Python 👇\n"
            ]
        },
        {
            "cell_type": "code",
            "execution_count": null,
            "metadata": {},
            "outputs": [],
            "source": [
                "!pip install pandas requests lxml"
            ]
        },
        {
            "cell_type": "code",
            "execution_count": null,
            "metadata": {},
            "outputs": [],
            "source": [
                "import os\n",
                "from bs4 import BeautifulSoup\n",
                "import requests\n",
                "import time\n",
                "import sqlite3\n",
                "import matplotlib.pyplot as plt\n",
                "import seaborn as sns\n",
                "\n"
            ]
        },
        {
            "cell_type": "markdown",
            "metadata": {},
            "source": [
                "## Paso 2: Descargar HTML\n",
                "\n",
                "En este paso descargaremos el contenido HTML de la página web que vamos a analizar.\n",
                "\n",
                "Utilizaremos la librería `requests` para enviar una solicitud HTTP al sitio web de **Wikipedia** que contiene la tabla de las canciones más reproducidas en Spotify.  \n",
                "El objetivo es obtener el código fuente (HTML) y almacenarlo en una variable para procesarlo más adelante.\n"
            ]
        },
        {
            "cell_type": "code",
            "execution_count": null,
            "metadata": {},
            "outputs": [],
            "source": [
                "import requests\n",
                "\n",
                "# URL de la página de Wikipedia\n",
                "url = \"https://es.wikipedia.org/wiki/Anexo:Canciones_m%C3%A1s_reproducidas_en_Spotify\"\n",
                "\n",
                "# Realizamos la solicitud HTTP\n",
                "response = requests.get(url)\n",
                "\n",
                "# Guardamos el contenido HTML de la respuesta\n",
                "html = response.text\n",
                "\n",
                "# Mostramos los primeros 500 caracteres para verificar\n",
                "print(html[:500])\n"
            ]
        },
        {
            "cell_type": "markdown",
            "metadata": {},
            "source": [
                "## Paso 3: Transformar el HTML y extraer la tabla\n",
                "\n",
                "En este paso convertiremos el HTML descargado en una tabla utilizable.  \n",
                "Usaremos `pandas.read_html` (que internamente usa `lxml`) para detectar tablas dentro del HTML y cargarlas como `DataFrame`.\n",
                "\n",
                "**Objetivos:**\n",
                "- Detectar y seleccionar la tabla principal de canciones.\n",
                "- Revisar sus columnas originales.\n",
                "- Renombrar columnas a nombres homogéneos.\n",
                "- Convertir la columna de reproducciones a un valor numérico.\n",
                "- (Opcional) Extraer el año de la fecha de lanzamiento.\n"
            ]
        },
        {
            "cell_type": "code",
            "execution_count": null,
            "metadata": {},
            "outputs": [],
            "source": [
                "import pandas as pd\n",
                "import re\n",
                "\n",
                "# 1) Extraer todas las tablas del HTML (variable `html` creada en el Paso 2)\n",
                "tables = pd.read_html(html)\n",
                "print(f\"Tablas encontradas: {len(tables)}\")\n",
                "\n",
                "# 2) Elegimos la primera tabla (ajústalo si tu impresión muestra otra estructura)\n",
                "df = tables[0].copy()\n",
                "\n",
                "print(\"Columnas originales:\")\n",
                "print(df.columns.tolist())\n",
                "\n",
                "# 3) Normalizamos nombres de columnas (pueden variar según la versión de Wikipedia)\n",
                "rename_map = {\n",
                "    \"Posición\": \"Posición\",\n",
                "    \"Position\": \"Posición\",\n",
                "    \"Canción\": \"Canción\",\n",
                "    \"Canción​\": \"Canción\",\n",
                "    \"Título\": \"Canción\",\n",
                "    \"Song\": \"Canción\",\n",
                "    \"Artista\": \"Artista\",\n",
                "    \"Artista(s)\": \"Artista\",\n",
                "    \"Artist(s)\": \"Artista\",\n",
                "    \"Reproducciones\": \"Reproducciones\",\n",
                "    \"Reproducciones (miles de millones)\": \"Reproducciones\",\n",
                "    \"Streams (billions)\": \"Reproducciones\",\n",
                "    \"Fecha de lanzamiento\": \"Fecha\",\n",
                "    \"Año de lanzamiento\": \"Fecha\",\n",
                "    \"Release date\": \"Fecha\",\n",
                "    \"Year\": \"Fecha\"\n",
                "}\n",
                "df = df.rename(columns={c: rename_map.get(c, c) for c in df.columns})\n",
                "\n",
                "# 4) Limpiar filas vacías o encabezados duplicados\n",
                "df = df.dropna(how=\"all\").reset_index(drop=True)\n",
                "\n",
                "# 5) Convertir \"Reproducciones\" a número absoluto\n",
                "#    La tabla a veces usa miles de millones (ej. \"5,12\" o \"5.12\"), otras veces número completo con separadores.\n",
                "def parse_streams(x):\n",
                "    s = str(x).strip()\n",
                "\n",
                "    # Caso A: formato en miles de millones (5,12 o 5.12)\n",
                "    if re.match(r\"^\\d{1,2}([.,]\\d+)?$\", s):\n",
                "        s = s.replace(\",\", \".\")\n",
                "        try:\n",
                "            return float(s) * 1_000_000_000\n",
                "        except:\n",
                "            return None\n",
                "\n",
                "    # Caso B: número grande con separadores y texto extra\n",
                "    s = re.sub(r\"[^\\d]\", \"\", s)  # deja solo dígitos\n",
                "    return float(s) if s.isdigit() else None\n",
                "\n",
                "if \"Reproducciones\" in df.columns:\n",
                "    df[\"Reproducciones_num\"] = df[\"Reproducciones\"].apply(parse_streams)\n",
                "\n",
                "# 6) Extraer año (si la columna Fecha trae una fecha completa)\n",
                "def extract_year(x):\n",
                "    m = re.search(r\"(19|20)\\d{2}\", str(x))\n",
                "    return int(m.group()) if m else None\n",
                "\n",
                "if \"Fecha\" in df.columns:\n",
                "    df[\"Año\"] = df[\"Fecha\"].apply(extract_year)\n",
                "\n",
                "# 7) Conservar columnas clave si existen\n",
                "cols = [c for c in [\"Posición\",\"Canción\",\"Artista\",\"Reproducciones\",\"Reproducciones_num\",\"Fecha\",\"Año\"] if c in df.columns]\n",
                "df = df[cols]\n",
                "\n",
                "# 8) Ordenar por reproducciones (si se pudo parsear)\n",
                "if \"Reproducciones_num\" in df.columns:\n",
                "    df = df.sort_values(\"Reproducciones_num\", ascending=False).reset_index(drop=True)\n",
                "\n",
                "# Vista previa\n",
                "df.head(10)\n"
            ]
        }
    ],
    "metadata": {
        "kernelspec": {
            "display_name": "Python 3",
            "language": "python",
            "name": "python3"
        },
        "language_info": {
            "codemirror_mode": {
                "name": "ipython",
                "version": 3
            },
            "file_extension": ".py",
            "mimetype": "text/x-python",
            "name": "python",
            "nbconvert_exporter": "python",
            "pygments_lexer": "ipython3",
            "version": "3.11.4"
        },
        "orig_nbformat": 4
    },
    "nbformat": 4,
    "nbformat_minor": 2
}
